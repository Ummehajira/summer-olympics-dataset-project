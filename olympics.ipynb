Summer Olympics Data Analysis Assignment
In [3]:
import pandas as pd
import matplotlib.pyplot as plt
In [11]:
df = pd.read_csv('summer.csv')
1. In how many cities Summer Olympics is held so far?
In [32]:
len(df["City"].unique())
Out[32]:
22
2. Which sport is having most number of Gold Medals so far? (Top 5)
In [67]:
Medals = []
da = df[df["Medal"]=="Gold"]

for i in da["Sport"].unique():
    Medals.append([i,len(da[da["Sport"]==i])])

data = pd.DataFrame(Medals,columns=['sport','GoldMedals'])
d=data.sort_values(by='GoldMedals',ascending= False)
d.head()
Out[67]:
sport	GoldMedals
0	Aquatics	1421
1	Athletics	1215
17	Rowing	890
4	Gymnastics	820
3	Fencing	552
In [91]:
d.head().plot(x="sport",y='GoldMedals',kind= "bar")
Out[91]:
<matplotlib.axes._subplots.AxesSubplot at 0x24266cde280>

3. Which sport is having most number of medals so far? (Top 5)
In [95]:
df.groupby("Sport").count()["Medal"].sort_values(ascending=False)
Out[95]:
Sport
Aquatics             4170
Athletics            3638
Rowing               2667
Gymnastics           2307
Fencing              1613
Football             1497
Hockey               1422
Wrestling            1212
Shooting             1150
Sailing              1109
Cycling              1105
Basketball           1012
Canoe / Kayak        1002
Volleyball            994
Handball              973
Equestrian            939
Boxing                894
Weightlifting         593
Judo                  491
Baseball              335
Archery               329
Tennis                296
Rugby                 192
Modern Pentathlon     180
Softball              180
Table Tennis          144
Badminton             144
Taekwondo             112
Tug of War             94
Canoe                  81
Polo                   66
Lacrosse               59
Golf                   30
Ice Hockey             27
Skating                27
Triathlon              24
Cricket                24
Rackets                10
Croquet                 8
Water Motorsports       5
Basque Pelota           4
Roque                   3
Jeu de paume            3
Name: Medal, dtype: int64
In [96]:
df.groupby("Sport").count()["Medal"].sort_values(ascending=False).head()
Out[96]:
Sport
Aquatics      4170
Athletics     3638
Rowing        2667
Gymnastics    2307
Fencing       1613
Name: Medal, dtype: int64
In [98]:
df.groupby("Sport").count()["Medal"].sort_values(ascending=False).head().plot.bar()
Out[98]:
<matplotlib.axes._subplots.AxesSubplot at 0x166f983e1f0>

4. Which player has won most number of medals? (Top 5)
In [102]:
df.groupby("Athlete").count()["Medal"].sort_values(ascending=False).head()
Out[102]:
Athlete
PHELPS, Michael         22
LATYNINA, Larisa        18
ANDRIANOV, Nikolay      15
MANGIAROTTI, Edoardo    13
SHAKHLIN, Boris         13
Name: Medal, dtype: int64
In [31]:
df.groupby("Athlete").count()["Medal"].sort_values(ascending=False).head().plot.bar()
Out[31]:
<matplotlib.axes._subplots.AxesSubplot at 0x24263b753d0>

5. Which player has won most number Gold Medals of medals? (Top 5)
In [60]:
Medals = []
da = df[df["Medal"]=="Gold"]

for i in da["Athlete"].unique():
    Medals.append([i,len(da[da["Athlete"]==i])])

data = pd.DataFrame(Medals,columns=['player','GoldMedals'])
d=data.sort_values(by='GoldMedals',ascending= False)
d.head()
Out[60]:
player	GoldMedals
6851	PHELPS, Michael	18
3320	SPITZ, Mark	9
2714	LATYNINA, Larisa	9
4630	LEWIS, Carl	9
907	NURMI, Paavo	9
In [62]:
d.head().plot(x="player",y='GoldMedals',kind= "bar")
Out[62]:
<matplotlib.axes._subplots.AxesSubplot at 0x24266a9ad00>

6. In which year India won first Gold Medal in Summer Olympics?
In [89]:
GoldData = df[df["Medal"]=="Gold"]

for i in range(len(df)):
    if df["Country"][i]=="IND" and df["Medal"][i]=="Gold":
        break
        
print(GoldData["Year"][i])
1928
7. Which event is most popular in terms on number of players? (Top 5)
In [21]:
data = []

for i in df["Event"].unique():
    data.append([i,len(df[df["Event"]==i])])
    
data = pd.DataFrame(data,columns=['Event','Freq'])
d=data.sort_values(by='Freq',ascending= False)
d.head().plot(x="Event",y='Freq',kind= "bar")
Out[21]:
<matplotlib.axes._subplots.AxesSubplot at 0x24263996cd0>

In [40]:
df.groupby("Event").count()["Athlete"].sort_values(ascending=False).head().plot.bar()
Out[40]:
<matplotlib.axes._subplots.AxesSubplot at 0x242657090a0>

8. Which sport is having most female Gold Medalists? (Top 5)
In [75]:
Medals = []
GoldData = df[df["Medal"]=="Gold"]
femaleData = df[df["Gender"]=="Women"]

for i in femaleData["Sport"].unique():
    Medals.append([i,len(femaleData[femaleData["Sport"]==i])])

data = pd.DataFrame(Medals,columns=['sport','GoldMedals'])
d=data.sort_values(by='GoldMedals',ascending= False)
d.head()
Out[75]:
sport	GoldMedals
4	Aquatics	1726
8	Athletics	1163
9	Gymnastics	799
14	Rowing	651
11	Volleyball	497
In [66]:
d.head().plot(x="sport", y="GoldMedals", kind="bar")
Out[66]:
<matplotlib.axes._subplots.AxesSubplot at 0x24266c83310>
